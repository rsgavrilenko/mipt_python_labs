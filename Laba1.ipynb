{
 "cells": [
  {
   "cell_type": "markdown",
   "metadata": {
    "id": "2LDjNwV-L07C"
   },
   "source": [
    "# Аналитика данных с помощью `pandas` и `matplotlib`"
   ]
  },
  {
   "cell_type": "markdown",
   "metadata": {
    "id": "yahCEf27L8Xz"
   },
   "source": [
    "В этом задании вам предлагается выполнить анализ данных криптовалют с помощью библиотек pandas и matplotlib.\n",
    "Задание выглядит как лабораторная работа, в которой вам предстоит заполнить недостающие клетки и ответить на ряд вопросов.\n",
    " - [Официальная документация pandas](https://pandas.pydata.org/)\n",
    " - [Официальная документация matplotlib](https://matplotlib.org/index.html)"
   ]
  },
  {
   "cell_type": "markdown",
   "metadata": {
    "id": "OEDe7x8YRID0"
   },
   "source": [
    "## Внимание! Attention! Achtung!"
   ]
  },
  {
   "cell_type": "markdown",
   "metadata": {
    "id": "ZEmKA-7NR1Y9"
   },
   "source": [
    "**Данная лабораторная работа является блокирующей**, т.е. если лабораторная работа не выполнена, то оценка за курс - неуд.\n",
    "\n",
    "Лабораторная работа считается выполненной, если набран как минимум 1 балл."
   ]
  },
  {
   "cell_type": "markdown",
   "metadata": {
    "id": "N1ZbZ8dkR5q_"
   },
   "source": [
    "## Формат сдачи лабораторной работы"
   ]
  },
  {
   "cell_type": "markdown",
   "metadata": {
    "id": "tEwx7LLQR-h8"
   },
   "source": [
    "Данная лабораторная работа сдается так же, как и проект - заполняете данный ноутбук, отправляете его через GitHub с указанием проверяющего."
   ]
  },
  {
   "cell_type": "markdown",
   "metadata": {
    "id": "qKwaNCJKj7b8"
   },
   "source": [
    "**Ассистенты не будут запускать ячейки кода, а смотреть на выведенный результат и код. Если ячейка кода не запущена - балл не ставится, даже при правильно написанном коде.**"
   ]
  },
  {
   "cell_type": "markdown",
   "metadata": {
    "id": "dWNu1zPiL07Q"
   },
   "source": [
    "## 1. Данные (2 балла)"
   ]
  },
  {
   "cell_type": "markdown",
   "metadata": {
    "id": "Nh7axXM5MrlX"
   },
   "source": [
    "Скачиваем данные для работы:"
   ]
  },
  {
   "cell_type": "code",
   "execution_count": 537,
   "metadata": {
    "id": "bzRxn9yrMq79"
   },
   "outputs": [],
   "source": [
    "#%%bash\n",
    "#gdown 1e-Q_15W7ExExQarKqgjrtoO-LHi9oJs3"
   ]
  },
  {
   "cell_type": "markdown",
   "metadata": {
    "id": "rxz0pXGIL07S"
   },
   "source": [
    "Начнем с необходимых приготовлений."
   ]
  },
  {
   "cell_type": "code",
   "execution_count": 538,
   "metadata": {
    "id": "-G3lHlpmL07T"
   },
   "outputs": [],
   "source": [
    "import numpy as np\n",
    "import pandas as pd\n",
    "import matplotlib as mpl  \n",
    "import matplotlib.pyplot as plt\n",
    "import ipywidgets  # Библиотека для интерактивных контролов в jupyter notebook'е\n",
    "import seaborn as sns\n",
    "\n",
    "import warnings\n",
    "warnings.filterwarnings(\"ignore\")\n",
    "\n",
    "%matplotlib inline"
   ]
  },
  {
   "cell_type": "markdown",
   "metadata": {
    "id": "syVncWO5L07X"
   },
   "source": [
    "#### Загрузите заранее подготовленный датасет из файла `coins.csv`. Создайте объект типа `pandas.DataFrame` с именем `coins` и в качестве индекса выберите колонку с датой."
   ]
  },
  {
   "cell_type": "code",
   "execution_count": 539,
   "metadata": {
    "id": "3a-dnCG0L07Z"
   },
   "outputs": [],
   "source": [
    "coins = pd.read_csv('coins.csv').set_index('date')"
   ]
  },
  {
   "cell_type": "markdown",
   "metadata": {
    "id": "XYauvggmL07a"
   },
   "source": [
    "Посмотрим что получилось"
   ]
  },
  {
   "cell_type": "code",
   "execution_count": 540,
   "metadata": {
    "id": "l4uGAbw2L07e",
    "outputId": "584542e8-5232-4192-d706-9bdace902161"
   },
   "outputs": [
    {
     "data": {
      "text/html": [
       "<div>\n",
       "<style scoped>\n",
       "    .dataframe tbody tr th:only-of-type {\n",
       "        vertical-align: middle;\n",
       "    }\n",
       "\n",
       "    .dataframe tbody tr th {\n",
       "        vertical-align: top;\n",
       "    }\n",
       "\n",
       "    .dataframe thead th {\n",
       "        text-align: right;\n",
       "    }\n",
       "</style>\n",
       "<table border=\"1\" class=\"dataframe\">\n",
       "  <thead>\n",
       "    <tr style=\"text-align: right;\">\n",
       "      <th></th>\n",
       "      <th>price</th>\n",
       "      <th>txCount</th>\n",
       "      <th>txVolume</th>\n",
       "      <th>activeAddresses</th>\n",
       "      <th>symbol</th>\n",
       "      <th>name</th>\n",
       "      <th>open</th>\n",
       "      <th>high</th>\n",
       "      <th>low</th>\n",
       "      <th>close</th>\n",
       "      <th>volume</th>\n",
       "      <th>market</th>\n",
       "    </tr>\n",
       "    <tr>\n",
       "      <th>date</th>\n",
       "      <th></th>\n",
       "      <th></th>\n",
       "      <th></th>\n",
       "      <th></th>\n",
       "      <th></th>\n",
       "      <th></th>\n",
       "      <th></th>\n",
       "      <th></th>\n",
       "      <th></th>\n",
       "      <th></th>\n",
       "      <th></th>\n",
       "      <th></th>\n",
       "    </tr>\n",
       "  </thead>\n",
       "  <tbody>\n",
       "    <tr>\n",
       "      <th>2013-04-28</th>\n",
       "      <td>135.30</td>\n",
       "      <td>41702.0</td>\n",
       "      <td>6.879868e+07</td>\n",
       "      <td>117984.0</td>\n",
       "      <td>BTC</td>\n",
       "      <td>Bitcoin</td>\n",
       "      <td>135.30</td>\n",
       "      <td>135.98</td>\n",
       "      <td>132.10</td>\n",
       "      <td>134.21</td>\n",
       "      <td>0.0</td>\n",
       "      <td>1.500520e+09</td>\n",
       "    </tr>\n",
       "    <tr>\n",
       "      <th>2013-04-28</th>\n",
       "      <td>4.30</td>\n",
       "      <td>9174.0</td>\n",
       "      <td>4.431952e+07</td>\n",
       "      <td>17216.0</td>\n",
       "      <td>LTC</td>\n",
       "      <td>Litecoin</td>\n",
       "      <td>4.30</td>\n",
       "      <td>4.40</td>\n",
       "      <td>4.18</td>\n",
       "      <td>4.35</td>\n",
       "      <td>0.0</td>\n",
       "      <td>7.377340e+07</td>\n",
       "    </tr>\n",
       "    <tr>\n",
       "      <th>2013-04-29</th>\n",
       "      <td>134.44</td>\n",
       "      <td>51602.0</td>\n",
       "      <td>1.138128e+08</td>\n",
       "      <td>86925.0</td>\n",
       "      <td>BTC</td>\n",
       "      <td>Bitcoin</td>\n",
       "      <td>134.44</td>\n",
       "      <td>147.49</td>\n",
       "      <td>134.00</td>\n",
       "      <td>144.54</td>\n",
       "      <td>0.0</td>\n",
       "      <td>1.491160e+09</td>\n",
       "    </tr>\n",
       "    <tr>\n",
       "      <th>2013-04-29</th>\n",
       "      <td>4.37</td>\n",
       "      <td>9275.0</td>\n",
       "      <td>3.647810e+07</td>\n",
       "      <td>18395.0</td>\n",
       "      <td>LTC</td>\n",
       "      <td>Litecoin</td>\n",
       "      <td>4.37</td>\n",
       "      <td>4.57</td>\n",
       "      <td>4.23</td>\n",
       "      <td>4.38</td>\n",
       "      <td>0.0</td>\n",
       "      <td>7.495270e+07</td>\n",
       "    </tr>\n",
       "  </tbody>\n",
       "</table>\n",
       "</div>"
      ],
      "text/plain": [
       "             price  txCount      txVolume  activeAddresses symbol      name  \\\n",
       "date                                                                          \n",
       "2013-04-28  135.30  41702.0  6.879868e+07         117984.0    BTC   Bitcoin   \n",
       "2013-04-28    4.30   9174.0  4.431952e+07          17216.0    LTC  Litecoin   \n",
       "2013-04-29  134.44  51602.0  1.138128e+08          86925.0    BTC   Bitcoin   \n",
       "2013-04-29    4.37   9275.0  3.647810e+07          18395.0    LTC  Litecoin   \n",
       "\n",
       "              open    high     low   close  volume        market  \n",
       "date                                                              \n",
       "2013-04-28  135.30  135.98  132.10  134.21     0.0  1.500520e+09  \n",
       "2013-04-28    4.30    4.40    4.18    4.35     0.0  7.377340e+07  \n",
       "2013-04-29  134.44  147.49  134.00  144.54     0.0  1.491160e+09  \n",
       "2013-04-29    4.37    4.57    4.23    4.38     0.0  7.495270e+07  "
      ]
     },
     "execution_count": 540,
     "metadata": {},
     "output_type": "execute_result"
    }
   ],
   "source": [
    "coins.head(4)"
   ]
  },
  {
   "cell_type": "markdown",
   "metadata": {
    "id": "KVwDhn2bL07i"
   },
   "source": [
    "Поясним значения хранящиеся в колонках\n",
    " - date - дата измерений\n",
    " - name - полное название монеты\n",
    " - symbol - сокращенное название монеты\n",
    " - price - средняя цена монеты за торговый день в USD\n",
    " - txCount - количество транзакций в сети данной монеты\n",
    " - txVolume - объем монет переведенных между адресами в сети данной монеты\n",
    " - activeAddresses - количество адресов совершавших а данный день транзации в сети данной монеты\n",
    " - open - цена монеты в начале торгов данного дня\n",
    " - close - цена монеты в конце торгов данного дня\n",
    " - high - самая высокая цена данной монеты в течение данного торгового дня\n",
    " - low - самая низкая цена данной монеты в течение данного торгового дня\n",
    " - volume - объем торгов данной монетой на биржах в данный день\n",
    " - market - капитализация данной монеты в данный день"
   ]
  },
  {
   "cell_type": "markdown",
   "metadata": {
    "id": "_q8b6IndNKmV"
   },
   "source": [
    "Изучим полученные данные. Ответьте на следующие вопросы (вставляйте клетки с кодом и тектом ниже):"
   ]
  },
  {
   "cell_type": "markdown",
   "metadata": {
    "id": "7ud0R7PcL07k"
   },
   "source": [
    "### 1. Сколько всего различных монет представлено в датасете? (0.4 балла)"
   ]
  },
  {
   "cell_type": "code",
   "execution_count": 541,
   "metadata": {
    "id": "oN2d3V71L07m"
   },
   "outputs": [],
   "source": [
    "count = coins['symbol'].value_counts().shape[0]"
   ]
  },
  {
   "cell_type": "code",
   "execution_count": 542,
   "metadata": {},
   "outputs": [
    {
     "data": {
      "text/plain": [
       "66"
      ]
     },
     "execution_count": 542,
     "metadata": {},
     "output_type": "execute_result"
    }
   ],
   "source": [
    "count"
   ]
  },
  {
   "cell_type": "markdown",
   "metadata": {
    "id": "TDffn2rLL07n"
   },
   "source": [
    "### 2. За какой период данные мы имеем? (0.4 балла)"
   ]
  },
  {
   "cell_type": "code",
   "execution_count": 543,
   "metadata": {
    "id": "7Ucmnjv1L07p"
   },
   "outputs": [
    {
     "data": {
      "text/plain": [
       "('2013-04-28', '2018-06-06')"
      ]
     },
     "execution_count": 543,
     "metadata": {},
     "output_type": "execute_result"
    }
   ],
   "source": [
    "coins.index.min(), coins.index.max()"
   ]
  },
  {
   "cell_type": "markdown",
   "metadata": {
    "id": "XFHJsy_5L07p"
   },
   "source": [
    "### 3. Есть ли пропуски в данных? Какой природы эти пропуски, чем они скорее всего вызваны? (0.5 балла)"
   ]
  },
  {
   "cell_type": "code",
   "execution_count": 544,
   "metadata": {
    "id": "D-nOmmFjL07r"
   },
   "outputs": [
    {
     "data": {
      "text/plain": [
       "price               327\n",
       "txCount            1520\n",
       "txVolume           1830\n",
       "activeAddresses    1520\n",
       "symbol                0\n",
       "name                  0\n",
       "open                  0\n",
       "high                  0\n",
       "low                   0\n",
       "close                 0\n",
       "volume                0\n",
       "market                0\n",
       "dtype: int64"
      ]
     },
     "execution_count": 544,
     "metadata": {},
     "output_type": "execute_result"
    }
   ],
   "source": [
    "coins.isnull().sum()"
   ]
  },
  {
   "cell_type": "code",
   "execution_count": 545,
   "metadata": {},
   "outputs": [
    {
     "data": {
      "text/plain": [
       "'Общее число пропусков: 5197'"
      ]
     },
     "execution_count": 545,
     "metadata": {},
     "output_type": "execute_result"
    }
   ],
   "source": [
    "f'Общее число пропусков: {coins.isnull().sum().sum()}'"
   ]
  },
  {
   "cell_type": "markdown",
   "metadata": {},
   "source": [
    "**Выведем часть строк, которые содержат пропуски**"
   ]
  },
  {
   "cell_type": "code",
   "execution_count": 546,
   "metadata": {},
   "outputs": [
    {
     "data": {
      "text/html": [
       "<div>\n",
       "<style scoped>\n",
       "    .dataframe tbody tr th:only-of-type {\n",
       "        vertical-align: middle;\n",
       "    }\n",
       "\n",
       "    .dataframe tbody tr th {\n",
       "        vertical-align: top;\n",
       "    }\n",
       "\n",
       "    .dataframe thead th {\n",
       "        text-align: right;\n",
       "    }\n",
       "</style>\n",
       "<table border=\"1\" class=\"dataframe\">\n",
       "  <thead>\n",
       "    <tr style=\"text-align: right;\">\n",
       "      <th></th>\n",
       "      <th>price</th>\n",
       "      <th>txCount</th>\n",
       "      <th>txVolume</th>\n",
       "      <th>activeAddresses</th>\n",
       "      <th>symbol</th>\n",
       "      <th>name</th>\n",
       "      <th>open</th>\n",
       "      <th>high</th>\n",
       "      <th>low</th>\n",
       "      <th>close</th>\n",
       "      <th>volume</th>\n",
       "      <th>market</th>\n",
       "    </tr>\n",
       "    <tr>\n",
       "      <th>date</th>\n",
       "      <th></th>\n",
       "      <th></th>\n",
       "      <th></th>\n",
       "      <th></th>\n",
       "      <th></th>\n",
       "      <th></th>\n",
       "      <th></th>\n",
       "      <th></th>\n",
       "      <th></th>\n",
       "      <th></th>\n",
       "      <th></th>\n",
       "      <th></th>\n",
       "    </tr>\n",
       "  </thead>\n",
       "  <tbody>\n",
       "    <tr>\n",
       "      <th>2014-08-05</th>\n",
       "      <td>0.002976</td>\n",
       "      <td>NaN</td>\n",
       "      <td>NaN</td>\n",
       "      <td>NaN</td>\n",
       "      <td>XLM</td>\n",
       "      <td>Stellar</td>\n",
       "      <td>0.002976</td>\n",
       "      <td>0.003387</td>\n",
       "      <td>0.002349</td>\n",
       "      <td>0.002440</td>\n",
       "      <td>30316.0</td>\n",
       "      <td>772597.0</td>\n",
       "    </tr>\n",
       "    <tr>\n",
       "      <th>2014-08-06</th>\n",
       "      <td>0.002373</td>\n",
       "      <td>NaN</td>\n",
       "      <td>NaN</td>\n",
       "      <td>NaN</td>\n",
       "      <td>XLM</td>\n",
       "      <td>Stellar</td>\n",
       "      <td>0.002373</td>\n",
       "      <td>0.003402</td>\n",
       "      <td>0.002266</td>\n",
       "      <td>0.002657</td>\n",
       "      <td>35820.0</td>\n",
       "      <td>746554.0</td>\n",
       "    </tr>\n",
       "    <tr>\n",
       "      <th>2014-08-07</th>\n",
       "      <td>0.002686</td>\n",
       "      <td>NaN</td>\n",
       "      <td>NaN</td>\n",
       "      <td>NaN</td>\n",
       "      <td>XLM</td>\n",
       "      <td>Stellar</td>\n",
       "      <td>0.002686</td>\n",
       "      <td>0.003042</td>\n",
       "      <td>0.002455</td>\n",
       "      <td>0.002501</td>\n",
       "      <td>142864.0</td>\n",
       "      <td>976942.0</td>\n",
       "    </tr>\n",
       "    <tr>\n",
       "      <th>2014-08-08</th>\n",
       "      <td>0.002493</td>\n",
       "      <td>NaN</td>\n",
       "      <td>NaN</td>\n",
       "      <td>NaN</td>\n",
       "      <td>XLM</td>\n",
       "      <td>Stellar</td>\n",
       "      <td>0.002493</td>\n",
       "      <td>0.003243</td>\n",
       "      <td>0.002493</td>\n",
       "      <td>0.002881</td>\n",
       "      <td>93708.0</td>\n",
       "      <td>1075820.0</td>\n",
       "    </tr>\n",
       "    <tr>\n",
       "      <th>2014-08-09</th>\n",
       "      <td>0.002884</td>\n",
       "      <td>NaN</td>\n",
       "      <td>NaN</td>\n",
       "      <td>NaN</td>\n",
       "      <td>XLM</td>\n",
       "      <td>Stellar</td>\n",
       "      <td>0.002884</td>\n",
       "      <td>0.003710</td>\n",
       "      <td>0.002873</td>\n",
       "      <td>0.003481</td>\n",
       "      <td>233579.0</td>\n",
       "      <td>1261300.0</td>\n",
       "    </tr>\n",
       "  </tbody>\n",
       "</table>\n",
       "</div>"
      ],
      "text/plain": [
       "               price  txCount  txVolume  activeAddresses symbol     name  \\\n",
       "date                                                                       \n",
       "2014-08-05  0.002976      NaN       NaN              NaN    XLM  Stellar   \n",
       "2014-08-06  0.002373      NaN       NaN              NaN    XLM  Stellar   \n",
       "2014-08-07  0.002686      NaN       NaN              NaN    XLM  Stellar   \n",
       "2014-08-08  0.002493      NaN       NaN              NaN    XLM  Stellar   \n",
       "2014-08-09  0.002884      NaN       NaN              NaN    XLM  Stellar   \n",
       "\n",
       "                open      high       low     close    volume     market  \n",
       "date                                                                     \n",
       "2014-08-05  0.002976  0.003387  0.002349  0.002440   30316.0   772597.0  \n",
       "2014-08-06  0.002373  0.003402  0.002266  0.002657   35820.0   746554.0  \n",
       "2014-08-07  0.002686  0.003042  0.002455  0.002501  142864.0   976942.0  \n",
       "2014-08-08  0.002493  0.003243  0.002493  0.002881   93708.0  1075820.0  \n",
       "2014-08-09  0.002884  0.003710  0.002873  0.003481  233579.0  1261300.0  "
      ]
     },
     "execution_count": 546,
     "metadata": {},
     "output_type": "execute_result"
    }
   ],
   "source": [
    "coins[coins.isna().any(axis=1)].head()"
   ]
  },
  {
   "cell_type": "markdown",
   "metadata": {},
   "source": [
    "Как мы видим общее число пропусков - 5197.\n",
    "\n",
    "Можем заметить, что пропуски сконцентрированы в определенных столбцах, а не разбросаны по строке. Значит значения, которые указана в этих столбцах либо не несут большой информации, либо эти столбцы не сильно информативны, как остальные и аналитику можно провести без знания этих данных."
   ]
  },
  {
   "cell_type": "markdown",
   "metadata": {
    "id": "Da-aXu_hL07s"
   },
   "source": [
    "### 4. У какой монеты и когда была самая высокая цена? (0.2 балла)"
   ]
  },
  {
   "cell_type": "code",
   "execution_count": 548,
   "metadata": {},
   "outputs": [
    {
     "data": {
      "text/html": [
       "<div>\n",
       "<style scoped>\n",
       "    .dataframe tbody tr th:only-of-type {\n",
       "        vertical-align: middle;\n",
       "    }\n",
       "\n",
       "    .dataframe tbody tr th {\n",
       "        vertical-align: top;\n",
       "    }\n",
       "\n",
       "    .dataframe thead th {\n",
       "        text-align: right;\n",
       "    }\n",
       "</style>\n",
       "<table border=\"1\" class=\"dataframe\">\n",
       "  <thead>\n",
       "    <tr style=\"text-align: right;\">\n",
       "      <th></th>\n",
       "      <th>symbol</th>\n",
       "      <th>price</th>\n",
       "    </tr>\n",
       "    <tr>\n",
       "      <th>date</th>\n",
       "      <th></th>\n",
       "      <th></th>\n",
       "    </tr>\n",
       "  </thead>\n",
       "  <tbody>\n",
       "    <tr>\n",
       "      <th>2017-12-17</th>\n",
       "      <td>BTC</td>\n",
       "      <td>19475.8</td>\n",
       "    </tr>\n",
       "  </tbody>\n",
       "</table>\n",
       "</div>"
      ],
      "text/plain": [
       "           symbol    price\n",
       "date                      \n",
       "2017-12-17    BTC  19475.8"
      ]
     },
     "execution_count": 548,
     "metadata": {},
     "output_type": "execute_result"
    }
   ],
   "source": [
    "coins[['symbol', 'price']].loc[coins['price'].idxmax()].sort_values('price', ascending=False).head(1)"
   ]
  },
  {
   "cell_type": "markdown",
   "metadata": {
    "id": "3F9UdmukL07u"
   },
   "source": [
    "### 5. У какой монеты самая высокая и самая низкая средняя капитализация (среднее арифметическое капитализаций за все доступные дни)? Постройте круговую диаграмму с долями. (0.5 балла)"
   ]
  },
  {
   "cell_type": "code",
   "execution_count": 549,
   "metadata": {},
   "outputs": [],
   "source": [
    "coins_describe = coins[['symbol', 'market']].groupby(by='symbol').mean().sort_values('market', ascending=False)"
   ]
  },
  {
   "cell_type": "markdown",
   "metadata": {},
   "source": [
    "**Самая низкая средняя капитализация**"
   ]
  },
  {
   "cell_type": "code",
   "execution_count": 550,
   "metadata": {
    "id": "VeoJsuP6L07v"
   },
   "outputs": [
    {
     "data": {
      "text/plain": [
       "28203506.20262664"
      ]
     },
     "execution_count": 550,
     "metadata": {},
     "output_type": "execute_result"
    }
   ],
   "source": [
    "coins_describe['market'].iloc[-1]"
   ]
  },
  {
   "cell_type": "markdown",
   "metadata": {},
   "source": [
    "**Самая высокая средняя капитализация**"
   ]
  },
  {
   "cell_type": "code",
   "execution_count": 551,
   "metadata": {},
   "outputs": [
    {
     "data": {
      "text/plain": [
       "30782136351.01822"
      ]
     },
     "execution_count": 551,
     "metadata": {},
     "output_type": "execute_result"
    }
   ],
   "source": [
    "coins_describe['market'].iloc[0]"
   ]
  },
  {
   "cell_type": "markdown",
   "metadata": {},
   "source": [
    "**Разделим данные на топ-4 и другие**\n",
    "\n",
    "(так как валюты с низким процентом ухудшат информативность диаграммы)"
   ]
  },
  {
   "cell_type": "code",
   "execution_count": 552,
   "metadata": {},
   "outputs": [],
   "source": [
    "best_coins = coins_describe.head(5)\n",
    "another_coins = coins_describe.drop(np.array(best_coins.index))\n",
    "another_coins = another_coins['market'].sum()"
   ]
  },
  {
   "cell_type": "code",
   "execution_count": 553,
   "metadata": {},
   "outputs": [],
   "source": [
    "best_coins.reset_index(inplace=True)\n",
    "best_coins.loc[len(best_coins.index)] = ['Другие', another_coins]\n",
    "best_coins = best_coins.set_index('symbol')"
   ]
  },
  {
   "cell_type": "code",
   "execution_count": 554,
   "metadata": {},
   "outputs": [
    {
     "data": {
      "image/png": "[encoded data removed]",
      "text/plain": [
       "<Figure size 1000x700 with 1 Axes>"
      ]
     },
     "metadata": {},
     "output_type": "display_data"
    }
   ],
   "source": [
    "# Creating color parameters\n",
    "colors = ( \"orange\", \"cyan\", \"brown\",\n",
    "          \"grey\", \"indigo\", \"beige\")\n",
    "\n",
    "wp = { 'linewidth' : 1, 'edgecolor' : \"green\" }\n",
    "\n",
    "fig, ax = plt.subplots(figsize =(10, 7))\n",
    "\n",
    "ax.pie(best_coins['market'], labels = best_coins.index, shadow = True, startangle = 90,\n",
    "       colors=colors, wedgeprops = wp, textprops = dict(color =\"magenta\"), autopct='%1.1f%%')\n",
    "\n",
    "ax.legend(best_coins.index)\n",
    "ax.set_title('Доля капитализаций')\n",
    "\n",
    "plt.show()"
   ]
  },
  {
   "cell_type": "markdown",
   "metadata": {
    "id": "Q2uOSfUsL07w"
   },
   "source": [
    "## 2. Визуализация (1 балл)"
   ]
  },
  {
   "cell_type": "markdown",
   "metadata": {
    "id": "uwjJ-L7tL07w"
   },
   "source": [
    "Самая интересная часть работы аналитика состоит во внимательном вглядывании в правильно выбранные и построенные графики."
   ]
  },
  {
   "cell_type": "markdown",
   "metadata": {
    "id": "mtUf5gGiNa6z"
   },
   "source": [
    "**Реализуйте функцию для визуализации цен выбранной валюты за выбранный диапазон дат.**"
   ]
  },
  {
   "cell_type": "markdown",
   "metadata": {
    "id": "9qevVDaEL07x"
   },
   "source": [
    "На графике должны быть видны цены начала и конца продаж. А так же минимальная и максимальная цена за этот день.\n",
    "Подпишите график и оси координат. Добавьте сетку. Увеличьте размер изображения.\n",
    "Можете попробовать использовать `candlestick_ohlc` (`from mplfinance.original_flavor import candlestick_ohlc`), но можно и без него."
   ]
  },
  {
   "cell_type": "code",
   "execution_count": 555,
   "metadata": {},
   "outputs": [],
   "source": [
    "from mplfinance.original_flavor import candlestick_ohlc\n",
    "import matplotlib.dates as dates"
   ]
  },
  {
   "cell_type": "code",
   "execution_count": 556,
   "metadata": {},
   "outputs": [],
   "source": [
    "def plot_fancy_price_action(coins, symbol, start_date, end_date):\n",
    "   \n",
    "    # Фильтрация данных\n",
    "    df_coins = coins[coins.symbol == symbol]\n",
    "    df_coins = df_coins[['open', 'high', 'low', 'close']].reset_index()\n",
    "    df_coins = df_coins[df_coins.date >= start_date]\n",
    "    df_coins = df_coins[df_coins.date <= end_date]\n",
    "    \n",
    "    # Преобразуем данные\n",
    "    df_coins['date'] = pd.to_datetime(df_coins['date'])\n",
    "    df_coins['date'] = df_coins['date'].apply(dates.date2num)\n",
    "    df_coins = df_coins.astype(float)\n",
    "    \n",
    "    fig, ax = plt.subplots(figsize=(8, 5))\n",
    "    \n",
    "    candlestick_ohlc(ax, df_coins.values, width=0.55, alpha=0.8, colorup='red', colordown='green')\n",
    "    \n",
    "    ax.grid(color='grey', linestyle='-', linewidth=2)\n",
    "    \n",
    "    ax.set_xlabel('Дата')\n",
    "    ax.set_ylabel('Цена монеты')\n",
    "    ax.set_title(f'Аналитика {symbol} c {start_date} по {end_date}')\n",
    "    ax.xaxis.set_major_formatter(dates.DateFormatter('%d-%m-%Y'))\n",
    "    plt.xticks(rotation=45)\n",
    "    \n",
    "    plt.show()"
   ]
  },
  {
   "cell_type": "markdown",
   "metadata": {
    "id": "C1F_4oSmL07z"
   },
   "source": [
    "Посмотрим, что получилось:"
   ]
  },
  {
   "cell_type": "code",
   "execution_count": 557,
   "metadata": {
    "id": "VIF6IvysL070"
   },
   "outputs": [
    {
     "data": {
      "image/png": "[encoded data removed]",
      "text/plain": [
       "<Figure size 800x500 with 1 Axes>"
      ]
     },
     "metadata": {},
     "output_type": "display_data"
    }
   ],
   "source": [
    "plot_fancy_price_action(coins=coins, symbol='VERI', start_date='2013-06-01', end_date='2019-06-30') "
   ]
  },
  {
   "cell_type": "markdown",
   "metadata": {
    "id": "cPzieShSL070"
   },
   "source": [
    "Никакого датасаенса в этом задании нет. Просто аналитик должен уметь строить графики, либо знать готовые инструменты."
   ]
  },
  {
   "cell_type": "markdown",
   "metadata": {
    "id": "8eizRenYL071"
   },
   "source": [
    "## 3. Накачка и сброс (1 балл)"
   ]
  },
  {
   "cell_type": "markdown",
   "metadata": {
    "id": "WFgtlhMKNjtX"
   },
   "source": [
    "Криптовалютные биржи до сих пор остаются маргинальным местом, эдаким диким западом финансового мира. Как следствие, здесь процветают схемы относительно\n",
    "честного отъема денег. Одна из них - **pump'n'dump** (накачка и сброс). \n",
    "\n",
    "Она выглядит следуюшим образом. Несколько крупных игроков или много мелких договариваются вместе купить малоизвестную монету с низкой ценой и объемом торгов. Это приводит к мгновенному взлету цены (pump), далее приходят неопытные игроки в надежде успеть заработать на таком росте. В этот момент организаторы схемы начнают все продавать (dump). Весь процесс занимает от нескольких минут до нескольких часов."
   ]
  },
  {
   "cell_type": "markdown",
   "metadata": {
    "id": "EXsHpJmHNstO"
   },
   "source": [
    "Ваша задача -- **найти самый сильный pump'n'dump** монеты на заданном промежутке времени. Для этого для каждого дня определим число `pnd` равное отношению максимальной цены монеты в данный день к максимуму из цен открытия и закрытия в тот же день. Нужно найти день, когда `pnd` был максимален и величину `pnd`."
   ]
  },
  {
   "cell_type": "code",
   "execution_count": 558,
   "metadata": {
    "id": "rzA20Gm6L072"
   },
   "outputs": [],
   "source": [
    "def find_most_severe_pump_and_dump(coins, symbol, start_date, end_date):\n",
    "    \n",
    "    # Фильтрация\n",
    "    df_coins = coins[coins['symbol'] == symbol]\n",
    "    df_coins = df_coins.reset_index()\n",
    "    df_coins = df_coins[df_coins.date >= start_date]\n",
    "    df_coins = df_coins[df_coins.date <= end_date]\n",
    "    \n",
    "    df_coins['pnd'] = df_coins.apply(lambda row: row.high / max(row.open, row.close), axis=1)\n",
    "    max_pnd = np.max(df_coins['pnd'])\n",
    "    df_coins = df_coins[df_coins['pnd'] == max_pnd]\n",
    "    \n",
    "    return df_coins[['date', 'pnd']].reset_index(drop=True)"
   ]
  },
  {
   "cell_type": "markdown",
   "metadata": {},
   "source": [
    "**Для BTC**"
   ]
  },
  {
   "cell_type": "code",
   "execution_count": 559,
   "metadata": {
    "id": "VZjM8FJ-L073"
   },
   "outputs": [
    {
     "data": {
      "text/html": [
       "<div>\n",
       "<style scoped>\n",
       "    .dataframe tbody tr th:only-of-type {\n",
       "        vertical-align: middle;\n",
       "    }\n",
       "\n",
       "    .dataframe tbody tr th {\n",
       "        vertical-align: top;\n",
       "    }\n",
       "\n",
       "    .dataframe thead th {\n",
       "        text-align: right;\n",
       "    }\n",
       "</style>\n",
       "<table border=\"1\" class=\"dataframe\">\n",
       "  <thead>\n",
       "    <tr style=\"text-align: right;\">\n",
       "      <th></th>\n",
       "      <th>date</th>\n",
       "      <th>pnd</th>\n",
       "    </tr>\n",
       "  </thead>\n",
       "  <tbody>\n",
       "    <tr>\n",
       "      <th>0</th>\n",
       "      <td>2017-11-29</td>\n",
       "      <td>1.142894</td>\n",
       "    </tr>\n",
       "  </tbody>\n",
       "</table>\n",
       "</div>"
      ],
      "text/plain": [
       "         date       pnd\n",
       "0  2017-11-29  1.142894"
      ]
     },
     "execution_count": 559,
     "metadata": {},
     "output_type": "execute_result"
    }
   ],
   "source": [
    "find_most_severe_pump_and_dump(coins, symbol='BTC', start_date='2017-06-01', end_date='2018-06-01')"
   ]
  },
  {
   "cell_type": "markdown",
   "metadata": {
    "id": "nos0kiTFL073"
   },
   "source": [
    "Сравните эти значения для разных монет:"
   ]
  },
  {
   "cell_type": "markdown",
   "metadata": {},
   "source": [
    "**Для EOS**"
   ]
  },
  {
   "cell_type": "code",
   "execution_count": 560,
   "metadata": {},
   "outputs": [
    {
     "data": {
      "text/html": [
       "<div>\n",
       "<style scoped>\n",
       "    .dataframe tbody tr th:only-of-type {\n",
       "        vertical-align: middle;\n",
       "    }\n",
       "\n",
       "    .dataframe tbody tr th {\n",
       "        vertical-align: top;\n",
       "    }\n",
       "\n",
       "    .dataframe thead th {\n",
       "        text-align: right;\n",
       "    }\n",
       "</style>\n",
       "<table border=\"1\" class=\"dataframe\">\n",
       "  <thead>\n",
       "    <tr style=\"text-align: right;\">\n",
       "      <th></th>\n",
       "      <th>date</th>\n",
       "      <th>pnd</th>\n",
       "    </tr>\n",
       "  </thead>\n",
       "  <tbody>\n",
       "    <tr>\n",
       "      <th>0</th>\n",
       "      <td>2017-07-03</td>\n",
       "      <td>1.320293</td>\n",
       "    </tr>\n",
       "  </tbody>\n",
       "</table>\n",
       "</div>"
      ],
      "text/plain": [
       "         date       pnd\n",
       "0  2017-07-03  1.320293"
      ]
     },
     "execution_count": 560,
     "metadata": {},
     "output_type": "execute_result"
    }
   ],
   "source": [
    "find_most_severe_pump_and_dump(coins, symbol='EOS', start_date='2017-06-01', end_date='2018-06-01')"
   ]
  },
  {
   "cell_type": "markdown",
   "metadata": {},
   "source": [
    "**Посчитаем для всех**"
   ]
  },
  {
   "cell_type": "code",
   "execution_count": 561,
   "metadata": {},
   "outputs": [],
   "source": [
    "df_ = pd.DataFrame(columns=['symbol', 'date', 'pnd'])\n",
    "for symbol in np.array(coins.groupby(by='symbol').mean().index.values):\n",
    "    cop = find_most_severe_pump_and_dump(coins, symbol=symbol, start_date='2017-06-01', end_date='2018-06-01')\n",
    "    df_.loc[len(df_)] = [symbol, cop['date'][0], cop['pnd'][0]]"
   ]
  },
  {
   "cell_type": "code",
   "execution_count": 562,
   "metadata": {},
   "outputs": [
    {
     "data": {
      "text/html": [
       "<div>\n",
       "<style scoped>\n",
       "    .dataframe tbody tr th:only-of-type {\n",
       "        vertical-align: middle;\n",
       "    }\n",
       "\n",
       "    .dataframe tbody tr th {\n",
       "        vertical-align: top;\n",
       "    }\n",
       "\n",
       "    .dataframe thead th {\n",
       "        text-align: right;\n",
       "    }\n",
       "</style>\n",
       "<table border=\"1\" class=\"dataframe\">\n",
       "  <thead>\n",
       "    <tr style=\"text-align: right;\">\n",
       "      <th></th>\n",
       "      <th>symbol</th>\n",
       "      <th>date</th>\n",
       "      <th>pnd</th>\n",
       "    </tr>\n",
       "  </thead>\n",
       "  <tbody>\n",
       "    <tr>\n",
       "      <th>0</th>\n",
       "      <td>ADA</td>\n",
       "      <td>2017-10-01</td>\n",
       "      <td>1.290640</td>\n",
       "    </tr>\n",
       "    <tr>\n",
       "      <th>1</th>\n",
       "      <td>AE</td>\n",
       "      <td>2017-08-06</td>\n",
       "      <td>1.748294</td>\n",
       "    </tr>\n",
       "    <tr>\n",
       "      <th>2</th>\n",
       "      <td>AION</td>\n",
       "      <td>2017-11-24</td>\n",
       "      <td>1.362416</td>\n",
       "    </tr>\n",
       "    <tr>\n",
       "      <th>3</th>\n",
       "      <td>ANT</td>\n",
       "      <td>2017-10-13</td>\n",
       "      <td>1.733668</td>\n",
       "    </tr>\n",
       "    <tr>\n",
       "      <th>4</th>\n",
       "      <td>BAT</td>\n",
       "      <td>2017-06-04</td>\n",
       "      <td>1.234249</td>\n",
       "    </tr>\n",
       "    <tr>\n",
       "      <th>...</th>\n",
       "      <td>...</td>\n",
       "      <td>...</td>\n",
       "      <td>...</td>\n",
       "    </tr>\n",
       "    <tr>\n",
       "      <th>61</th>\n",
       "      <td>XLM</td>\n",
       "      <td>2017-10-16</td>\n",
       "      <td>1.332511</td>\n",
       "    </tr>\n",
       "    <tr>\n",
       "      <th>62</th>\n",
       "      <td>XVG</td>\n",
       "      <td>2017-12-17</td>\n",
       "      <td>1.726865</td>\n",
       "    </tr>\n",
       "    <tr>\n",
       "      <th>63</th>\n",
       "      <td>ZEC</td>\n",
       "      <td>2017-09-28</td>\n",
       "      <td>1.329878</td>\n",
       "    </tr>\n",
       "    <tr>\n",
       "      <th>64</th>\n",
       "      <td>ZIL</td>\n",
       "      <td>2018-03-05</td>\n",
       "      <td>1.463186</td>\n",
       "    </tr>\n",
       "    <tr>\n",
       "      <th>65</th>\n",
       "      <td>ZRX</td>\n",
       "      <td>2018-04-05</td>\n",
       "      <td>1.254990</td>\n",
       "    </tr>\n",
       "  </tbody>\n",
       "</table>\n",
       "<p>66 rows × 3 columns</p>\n",
       "</div>"
      ],
      "text/plain": [
       "   symbol        date       pnd\n",
       "0     ADA  2017-10-01  1.290640\n",
       "1      AE  2017-08-06  1.748294\n",
       "2    AION  2017-11-24  1.362416\n",
       "3     ANT  2017-10-13  1.733668\n",
       "4     BAT  2017-06-04  1.234249\n",
       "..    ...         ...       ...\n",
       "61    XLM  2017-10-16  1.332511\n",
       "62    XVG  2017-12-17  1.726865\n",
       "63    ZEC  2017-09-28  1.329878\n",
       "64    ZIL  2018-03-05  1.463186\n",
       "65    ZRX  2018-04-05  1.254990\n",
       "\n",
       "[66 rows x 3 columns]"
      ]
     },
     "execution_count": 562,
     "metadata": {},
     "output_type": "execute_result"
    }
   ],
   "source": [
    "df_"
   ]
  },
  {
   "cell_type": "markdown",
   "metadata": {},
   "source": [
    "**Добавим визуализацию**"
   ]
  },
  {
   "cell_type": "code",
   "execution_count": 563,
   "metadata": {},
   "outputs": [
    {
     "data": {
      "text/plain": [
       "Text(0.5, 1.0, 'Топ 7 pnd')"
      ]
     },
     "execution_count": 563,
     "metadata": {},
     "output_type": "execute_result"
    },
    {
     "data": {
      "image/png": "[encoded data removed]",
      "text/plain": [
       "<Figure size 640x480 with 1 Axes>"
      ]
     },
     "metadata": {},
     "output_type": "display_data"
    }
   ],
   "source": [
    "sns.barplot(data=df_.sort_values('pnd', ascending=False)[0:7], x=\"pnd\", y=\"symbol\")\n",
    "plt.title(\"Топ 7 pnd\")"
   ]
  },
  {
   "cell_type": "markdown",
   "metadata": {
    "id": "4I9QAGfGL074"
   },
   "source": [
    "## 4. Окупаемость инвестиций (1 балл)"
   ]
  },
  {
   "cell_type": "markdown",
   "metadata": {
    "id": "Ts7GdSZJL075"
   },
   "source": [
    "Вам нужно посчитать **окупаемость инвестиций (ROI)** в криптовалюты на заданном промежутке времени. \n",
    "\n",
    "Окупаемость определяется как отношение *изменения цены портфеля* к *исходной цене портфеля*. Цена портфеля - это суммарная стоимость (в USD) всех монет в портфеле.\n",
    "\n",
    "`investments` - словарь, в котором ключи - это названия монет, значения - это сумма вложений в эту монету (в USD)."
   ]
  },
  {
   "cell_type": "code",
   "execution_count": 564,
   "metadata": {
    "id": "RwDtgKjhL076"
   },
   "outputs": [],
   "source": [
    "def compute_roi(coins, investments, start_date, end_date):\n",
    "\n",
    "    # Исходная цена портфеля\n",
    "    sum_backpack = np.sum(list(investments.values()))\n",
    "    \n",
    "    df_coins = coins.reset_index()\n",
    "    # Найдем кол-во купленных акций в начале\n",
    "    count_act = []\n",
    "    for key, val in investments.items():\n",
    "        count_act.append(val / df_coins.loc[(df_coins['symbol'] == key) & (df_coins['date'] == start_date)]['price'].reset_index(drop=True).iloc[0])\n",
    "    \n",
    "    # Посчитаем цену в конце\n",
    "    end_sum = []\n",
    "    \n",
    "    for key, val in investments.items():\n",
    "        end_sum.append(df_coins.loc[(df_coins['symbol'] == key) & (df_coins['date'] == end_date)]['price'].reset_index(drop=True).iloc[0])\n",
    "    \n",
    "    return (np.sum(np.array(end_sum) * np.array(count_act)) - sum_backpack) / sum_backpack"
   ]
  },
  {
   "cell_type": "code",
   "execution_count": 565,
   "metadata": {
    "id": "oWW8XBrIL076"
   },
   "outputs": [
    {
     "data": {
      "text/plain": [
       "-0.035569133065275614"
      ]
     },
     "execution_count": 565,
     "metadata": {},
     "output_type": "execute_result"
    }
   ],
   "source": [
    "compute_roi(coins, investments={'BTC': 1000, 'LTC': 500}, start_date='2018-04-04', end_date='2018-06-01')"
   ]
  },
  {
   "cell_type": "code",
   "execution_count": 566,
   "metadata": {
    "id": "UQDAuP_QL077"
   },
   "outputs": [
    {
     "data": {
      "text/plain": [
       "51.28330296529592"
      ]
     },
     "execution_count": 566,
     "metadata": {},
     "output_type": "execute_result"
    }
   ],
   "source": [
    "compute_roi(coins, investments={'BTC': 1000, 'LTC': 500}, start_date='2013-05-28', end_date='2018-06-06')"
   ]
  },
  {
   "cell_type": "markdown",
   "metadata": {
    "id": "Xz7CvTFqL078"
   },
   "source": [
    "## 5. Технический анализ (1 балл)"
   ]
  },
  {
   "cell_type": "markdown",
   "metadata": {
    "id": "NFsh0yEqL078"
   },
   "source": [
    "**Технический анализ** - это способ предсказания поведения графика по некоторым вспомогательным величинам построенным по исходному графику. Один из простейших методов технического анализа - **[границы Боллинджера](https://en.wikipedia.org/wiki/Bollinger_Bands)**. Кто-то верит, что график касаясь границы от него должен отражаться.\n",
    "\n",
    "Границы считаются очень просто: \n",
    "\n",
    "$$(MA \\pm K\\sigma),$$\n",
    "\n",
    "где `MA` - скользящее среднее за `N` дней, а $\\sigma$ - скользящее стандартное отклонение за `N` дней."
   ]
  },
  {
   "cell_type": "markdown",
   "metadata": {
    "id": "Mo4GLdibL079"
   },
   "source": [
    "Нарисуйте **график цены**, **скользящее среднее** и **границы Боллинджера** c параметрами `N (window) = 21`, `K (width) = 2`.\n",
    "\n",
    "Тут вам поможет функция `rolling` для подсчёта среднего и стандартного отклонения по скользящему окну.\n",
    "\n",
    "Не забудьте подписать график и оси, отрисовать легенду и выбрать для нее лучшее расположение."
   ]
  },
  {
   "cell_type": "code",
   "execution_count": 567,
   "metadata": {
    "id": "zf4zMAGkL079"
   },
   "outputs": [],
   "source": [
    "def plot_bollinger_bands(coins, symbol, window, width):\n",
    "    \n",
    "    # Подготовим данные\n",
    "    df_coins = coins[coins['symbol'] == symbol].reset_index()\n",
    "    \n",
    "    df_coins['mean'] = df_coins['price'].rolling(window).mean()\n",
    "    df_coins['std^2'] = df_coins['price'].rolling(window).var()\n",
    "    \n",
    "    # Посчитаем границы\n",
    "    df_coins[\"up_\"] = df_coins.apply(lambda row: row['mean'] + width * np.sqrt(row['std^2']), axis=1)\n",
    "    df_coins[\"down_\"] = df_coins.apply(lambda row: row['mean'] - width * np.sqrt(row['std^2']), axis=1)\n",
    "    \n",
    "    # plt.figure(figsize=(15, 7))\n",
    "    plt.grid(color='grey', linestyle='-', linewidth=0.5)\n",
    "    \n",
    "    plt.plot(df_coins['date'], df_coins['up_'], color='red')\n",
    "    plt.plot(df_coins['date'], df_coins['price'], color='blue')\n",
    "    plt.plot(df_coins['date'], df_coins['down_'], color='green')\n",
    "    \n",
    "    plt.title(f\"График цены {symbol}\")\n",
    "    plt.xlabel(\"Дата\")\n",
    "    plt.ylabel(f\"Цена монеты {symbol}\")\n",
    "    plt.legend(['верхн. гр. Боллинджера', 'цена', 'нижн. гр. Боллинджера'])\n",
    "    \n",
    "    plt.xticks([])\n",
    "    \n",
    "    plt.show()"
   ]
  },
  {
   "cell_type": "code",
   "execution_count": 568,
   "metadata": {
    "id": "dWBsySLJL07-"
   },
   "outputs": [
    {
     "data": {
      "image/png": "[encoded data removed]",
      "text/plain": [
       "<Figure size 640x480 with 1 Axes>"
      ]
     },
     "metadata": {},
     "output_type": "display_data"
    }
   ],
   "source": [
    "plot_bollinger_bands(coins=coins, symbol='EOS', window=21, width=2)  # тут должен появиться график"
   ]
  },
  {
   "cell_type": "markdown",
   "metadata": {
    "id": "pJAYp_pUL07_"
   },
   "source": [
    "**Сделайте вывод о том, выполнялось ли правило Боллинджера:**"
   ]
  },
  {
   "cell_type": "markdown",
   "metadata": {
    "id": "k7NsxSsUL07_"
   },
   "source": [
    "Можно сделать вывод, что метод технического анализа - границы Боллинджера выполняется"
   ]
  },
  {
   "cell_type": "markdown",
   "metadata": {
    "id": "41k4GlWGL08A"
   },
   "source": [
    "## 6. Капитализация как индикатор (1 балл)"
   ]
  },
  {
   "cell_type": "markdown",
   "metadata": {
    "id": "sONehy4zL08A"
   },
   "source": [
    "Многие люди, которые торгуют криптовалютой, любят смотреть на [капитализацию](https://academy.binance.com/ru/articles/crypto-market-capitalization-explained). Давайте поймём почему."
   ]
  },
  {
   "cell_type": "markdown",
   "metadata": {
    "id": "4spBUSr5L08B"
   },
   "source": [
    "**Нарисуйте еще два графика:**\n",
    "1. общая капитализация биткойна (BTC), эфира (ETH), еос (EOS), биткойн кэша (BCH), стеллара (XLM) и лайткойна (LTC)\n",
    "2. доли капитализаций этих монет от общей капитализации рынка. \n",
    "\n",
    "При этом используйте данные начиная с 2017-07-01."
   ]
  },
  {
   "cell_type": "code",
   "execution_count": 569,
   "metadata": {
    "id": "xHMMSJg6L08B",
    "scrolled": false
   },
   "outputs": [],
   "source": [
    "def plot_coins_capitalizations(coins, symbols, start_date):\n",
    "    \n",
    "    # Фильтрация данных\n",
    "    df_coins = coins[coins['symbol'].isin(symbols)].reset_index()\n",
    "    df_coins = df_coins[df_coins['date'] >= start_date]\n",
    "    \n",
    "    df_coins = df_coins.groupby(by='symbol').mean().reset_index()\n",
    "    df_coins = df_coins[['symbol', 'market']]\n",
    "    \n",
    "    # Посчитаем доли капитализаций\n",
    "    proc = df_coins['market'].sum()\n",
    "    proc_df = df_coins.copy() # иначе изменяем один dataframe\n",
    "    proc_df['market'] = proc_df['market'] / proc\n",
    "    \n",
    "    # Добавим полную долю в Датафрэйм\n",
    "    proc_df.loc[len(proc_df)] = ['ALL FRAC', 1]\n",
    "    proc_df = proc_df.sort_values(by='market', ascending=False)\n",
    "    \n",
    "    # Построим графики\n",
    "    fig, axes = plt.subplots(1, 2, figsize=(15, 5))\n",
    "    \n",
    "    sns.barplot(ax=axes[0], data=df_coins.sort_values(by='market', ascending=False), x='market', y='symbol')\n",
    "    axes[0].set_xlabel('capitalization')\n",
    "    axes[0].set_title('Capitalization chart of some coins')\n",
    "    \n",
    "    sns.barplot(ax=axes[1], data=proc_df, x='market', y='symbol')\n",
    "    axes[1].set_xlabel('part of the total capitalization')\n",
    "    axes[1].set_title('Fraction of capitalization')\n",
    "    \n",
    "    plt.show()"
   ]
  },
  {
   "cell_type": "code",
   "execution_count": 570,
   "metadata": {
    "id": "jOD_z5hYL08C"
   },
   "outputs": [
    {
     "data": {
      "image/png": "[encoded data removed]",
      "text/plain": [
       "<Figure size 1500x500 with 2 Axes>"
      ]
     },
     "metadata": {},
     "output_type": "display_data"
    }
   ],
   "source": [
    "plot_coins_capitalizations(\n",
    "    coins=coins,\n",
    "    symbols=('BTC', 'ETH', 'EOS', 'BCH', 'XLM', 'LTC'),\n",
    "    start_date='2017-07-01'\n",
    ")"
   ]
  },
  {
   "cell_type": "markdown",
   "metadata": {
    "id": "A_qkmlioL08C"
   },
   "source": [
    "Проанализируйте зависимость доли капитализации альткойнов (остальных монет, кроме биткойна) от доли капитализации биткойна. Как выдумаете, в чём причина такой зависимости?"
   ]
  },
  {
   "cell_type": "markdown",
   "metadata": {
    "id": "RzJXy2cjL08D"
   },
   "source": [
    "Из графика можем заметить, что Биткоин имеет долю капитализации рынка больше половины. Это связано с тем, что Биткоин - одна из мервых известных криптоваляют, многие, кто начинают внедряться в сферу крипты - в основном только и знают Биткоин, значит охватывает большее число пользователей. Биткоин стал очень популярным, поэтому имеет высокую капитализацию"
   ]
  },
  {
   "cell_type": "markdown",
   "metadata": {
    "id": "5TtUAu7PL08E"
   },
   "source": [
    "## 7. Корреляции монет (1 балл)"
   ]
  },
  {
   "cell_type": "markdown",
   "metadata": {
    "id": "ii_8rp4YL08E"
   },
   "source": [
    "Теперь нужно подробнее посмотреть на корреляции средних долей капитализаций монет. При этом будем смотреть на среднее сглаженное за последние `window` дней до дня `date` с коэффициентом сглаживания `alpha` для набора монет `symbols`.\n",
    "\n",
    "Реализуйте функцию, которая будет возвращать квадратный `DataFrame` с числом строк и столбцов, равным числу рассматриваемых монет и со значениями корреляций:"
   ]
  },
  {
   "cell_type": "code",
   "execution_count": 571,
   "metadata": {
    "id": "lxZQQuBxL08E"
   },
   "outputs": [
    {
     "ename": "IndentationError",
     "evalue": "expected an indented block (178508106.py, line 2)",
     "output_type": "error",
     "traceback": [
      "\u001b[0;36m  Cell \u001b[0;32mIn[571], line 2\u001b[0;36m\u001b[0m\n\u001b[0;31m    # Paste your code here\u001b[0m\n\u001b[0m                          ^\u001b[0m\n\u001b[0;31mIndentationError\u001b[0m\u001b[0;31m:\u001b[0m expected an indented block\n"
     ]
    }
   ],
   "source": [
    "def calc_coins_correlations(coins, date, symbols, window, alpha):\n",
    "    # Paste your code here"
   ]
  },
  {
   "cell_type": "code",
   "execution_count": 1,
   "metadata": {
    "id": "L8iBTKhuL08F"
   },
   "outputs": [
    {
     "ename": "NameError",
     "evalue": "name 'calc_coins_correlations' is not defined",
     "output_type": "error",
     "traceback": [
      "\u001b[0;31m---------------------------------------------------------------------------\u001b[0m",
      "\u001b[0;31mNameError\u001b[0m                                 Traceback (most recent call last)",
      "\u001b[0;32m/var/folders/r6/q13b8rvj3b9gh9zljz_ghk650tw4dd/T/ipykernel_9332/3415760175.py\u001b[0m in \u001b[0;36m<module>\u001b[0;34m\u001b[0m\n\u001b[0;32m----> 1\u001b[0;31m correlations = calc_coins_correlations(coins, date=\"2018-06-06\",\n\u001b[0m\u001b[1;32m      2\u001b[0m                                        \u001b[0msymbols\u001b[0m\u001b[0;34m=\u001b[0m\u001b[0;34m[\u001b[0m\u001b[0;34m'BTC'\u001b[0m\u001b[0;34m,\u001b[0m \u001b[0;34m'ETH'\u001b[0m\u001b[0;34m,\u001b[0m \u001b[0;34m'EOS'\u001b[0m\u001b[0;34m,\u001b[0m \u001b[0;34m'BCH'\u001b[0m\u001b[0;34m,\u001b[0m \u001b[0;34m'XLM'\u001b[0m\u001b[0;34m,\u001b[0m \u001b[0;34m'LTC'\u001b[0m\u001b[0;34m,\u001b[0m \u001b[0;34m'ADA'\u001b[0m\u001b[0;34m]\u001b[0m\u001b[0;34m,\u001b[0m\u001b[0;34m\u001b[0m\u001b[0;34m\u001b[0m\u001b[0m\n\u001b[1;32m      3\u001b[0m                                        window=21, alpha=0.1)\n\u001b[1;32m      4\u001b[0m \u001b[0;31m# Теперь посмотрим на эти корреляции следующим образом:\u001b[0m\u001b[0;34m\u001b[0m\u001b[0;34m\u001b[0m\u001b[0m\n\u001b[1;32m      5\u001b[0m \u001b[0mcorrelations\u001b[0m\u001b[0;34m.\u001b[0m\u001b[0mstyle\u001b[0m\u001b[0;34m.\u001b[0m\u001b[0mbackground_gradient\u001b[0m\u001b[0;34m(\u001b[0m\u001b[0mcmap\u001b[0m\u001b[0;34m=\u001b[0m\u001b[0;34m'coolwarm'\u001b[0m\u001b[0;34m)\u001b[0m\u001b[0;34m.\u001b[0m\u001b[0mset_precision\u001b[0m\u001b[0;34m(\u001b[0m\u001b[0;36m2\u001b[0m\u001b[0;34m)\u001b[0m\u001b[0;34m\u001b[0m\u001b[0;34m\u001b[0m\u001b[0m\n",
      "\u001b[0;31mNameError\u001b[0m: name 'calc_coins_correlations' is not defined"
     ]
    }
   ],
   "source": [
    "correlations = calc_coins_correlations(coins, date=\"2018-06-06\",\n",
    "                                       symbols=['BTC', 'ETH', 'EOS', 'BCH', 'XLM', 'LTC', 'ADA'],\n",
    "                                       window=21, alpha=0.1)\n",
    "# Теперь посмотрим на эти корреляции следующим образом:\n",
    "correlations.style.background_gradient(cmap='coolwarm').set_precision(2)"
   ]
  },
  {
   "cell_type": "markdown",
   "metadata": {
    "id": "QbBg3mgjL08F"
   },
   "source": [
    "Довольно интересно ещё взглянуть на 2017-12-27:"
   ]
  },
  {
   "cell_type": "code",
   "execution_count": 2,
   "metadata": {
    "id": "IJrYVdA0L08G"
   },
   "outputs": [
    {
     "ename": "NameError",
     "evalue": "name 'calc_coins_correlations' is not defined",
     "output_type": "error",
     "traceback": [
      "\u001b[0;31m---------------------------------------------------------------------------\u001b[0m",
      "\u001b[0;31mNameError\u001b[0m                                 Traceback (most recent call last)",
      "\u001b[0;32m/var/folders/r6/q13b8rvj3b9gh9zljz_ghk650tw4dd/T/ipykernel_9332/925846226.py\u001b[0m in \u001b[0;36m<module>\u001b[0;34m\u001b[0m\n\u001b[0;32m----> 1\u001b[0;31m correlations = calc_coins_correlations(coins, date=\"2017-12-27\",\n\u001b[0m\u001b[1;32m      2\u001b[0m                                        \u001b[0msymbols\u001b[0m\u001b[0;34m=\u001b[0m\u001b[0;34m[\u001b[0m\u001b[0;34m'BTC'\u001b[0m\u001b[0;34m,\u001b[0m \u001b[0;34m'ETH'\u001b[0m\u001b[0;34m,\u001b[0m \u001b[0;34m'EOS'\u001b[0m\u001b[0;34m,\u001b[0m \u001b[0;34m'BCH'\u001b[0m\u001b[0;34m,\u001b[0m \u001b[0;34m'XLM'\u001b[0m\u001b[0;34m,\u001b[0m \u001b[0;34m'LTC'\u001b[0m\u001b[0;34m,\u001b[0m \u001b[0;34m'ADA'\u001b[0m\u001b[0;34m]\u001b[0m\u001b[0;34m,\u001b[0m\u001b[0;34m\u001b[0m\u001b[0;34m\u001b[0m\u001b[0m\n\u001b[1;32m      3\u001b[0m                                        window=21, alpha=0.1)\n\u001b[1;32m      4\u001b[0m \u001b[0;31m# Теперь посмотрим на эти корреляции следующим образом:\u001b[0m\u001b[0;34m\u001b[0m\u001b[0;34m\u001b[0m\u001b[0m\n\u001b[1;32m      5\u001b[0m \u001b[0mcorrelations\u001b[0m\u001b[0;34m.\u001b[0m\u001b[0mstyle\u001b[0m\u001b[0;34m.\u001b[0m\u001b[0mbackground_gradient\u001b[0m\u001b[0;34m(\u001b[0m\u001b[0mcmap\u001b[0m\u001b[0;34m=\u001b[0m\u001b[0;34m'coolwarm'\u001b[0m\u001b[0;34m)\u001b[0m\u001b[0;34m.\u001b[0m\u001b[0mset_precision\u001b[0m\u001b[0;34m(\u001b[0m\u001b[0;36m2\u001b[0m\u001b[0;34m)\u001b[0m\u001b[0;34m\u001b[0m\u001b[0;34m\u001b[0m\u001b[0m\n",
      "\u001b[0;31mNameError\u001b[0m: name 'calc_coins_correlations' is not defined"
     ]
    }
   ],
   "source": [
    "correlations = calc_coins_correlations(coins, date=\"2017-12-27\",\n",
    "                                       symbols=['BTC', 'ETH', 'EOS', 'BCH', 'XLM', 'LTC', 'ADA'],\n",
    "                                       window=21, alpha=0.1)\n",
    "# Теперь посмотрим на эти корреляции следующим образом:\n",
    "correlations.style.background_gradient(cmap='coolwarm').set_precision(2)"
   ]
  },
  {
   "cell_type": "markdown",
   "metadata": {
    "id": "D4kyPV0CL08G"
   },
   "source": [
    "## 8. Анализ одной стратегии (2 балла)"
   ]
  },
  {
   "cell_type": "markdown",
   "metadata": {
    "id": "Y8rQ5WIML08H"
   },
   "source": [
    "Разберем один мечтательный пример. Посмотрим какую прибыль могла бы нам принести хрестоматийная торговая стратегия, основанная на скользящих средних.\n",
    "\n",
    "Стратегия выглядит следующим образом: мы строим две скользящие среднии для графика цены. С маленьким окном (ведущее скользящее среднее) и с бОльшим окном (запаздывающее скользящее среднее). **Мы покупаем, когда ведущее среднее становится больше запаздывающего, и продаем в противном случае.**\n",
    "\n",
    "Посмотрим на пример:"
   ]
  },
  {
   "cell_type": "code",
   "execution_count": null,
   "metadata": {
    "id": "gEPEQGSTL08H",
    "outputId": "d4bbd2f4-ba46-45d9-c930-35daf6ae0a48"
   },
   "outputs": [],
   "source": [
    "def plot_moving_averages(coins, symbol, leading_window, lagging_window, start_date, end_date):\n",
    "    coin = coins[coins['symbol'] == symbol][start_date:end_date]\n",
    "    price = coin['price']\n",
    "    leading_mean = price.rolling(window=leading_window).mean()\n",
    "    lagging_mean = price.rolling(window=lagging_window).mean()\n",
    "\n",
    "    fig = plt.figure(figsize=(16, 9))\n",
    "    ax = fig.add_subplot(111)\n",
    "    \n",
    "    ax.set_title('Price action for {}'.format(symbol))\n",
    "    ax.plot(leading_mean, color='green', label='MA{}'.format(leading_window))\n",
    "    ax.plot(lagging_mean, color='red', label='MA{}'.format(lagging_window))\n",
    "    ax.plot(price, color='blue', label='price')\n",
    "    ax.set_xlabel('Date')\n",
    "    ax.set_ylabel('Price')\n",
    "    ax.legend(loc='best')\n",
    "    ax.grid(True)\n",
    "    plt.show() \n",
    "\n",
    "plot_moving_averages(\n",
    "    coins=coins, \n",
    "    symbol='BTC', \n",
    "    leading_window=21, \n",
    "    lagging_window=50, \n",
    "    start_date='2017-05-01',\n",
    "    end_date='2018-08-01')"
   ]
  },
  {
   "cell_type": "markdown",
   "metadata": {
    "id": "pK6shsqJL08I"
   },
   "source": [
    "Видно, что скользящее среднее с бОльшим окном медленнее реагирует на изменение цены. Именно на этой идее и основана торговая стратегия/\n",
    "\n",
    "\n",
    "**Реализуйте функцию**, которая строит два графика. На правом будут изображены цена и скользящие средние. На левом - во сколько раз изменится размер вложений при использовании нашей стратегии и при обычном инвестировании (купили и держим, смотрим как растет цена наших купленных валют).\n",
    "\n",
    "Иными словами сравниваем 2 подхода:\n",
    "- сразу в начальный момент времени купить крипты на все деньги - обычное инвестирование\n",
    "- ждать подходящих моментов и покупать только в них равными порциями - стратегия\n",
    "\n",
    "Считайте, что суммарное количество вложенных денег в обоих подходах одинаковое."
   ]
  },
  {
   "cell_type": "markdown",
   "metadata": {
    "id": "AcdF_qkJQ2Xy"
   },
   "source": [
    ">**Примечания:**\n",
    ">- Давайте использовать только цены закрытия. При этом, чтобы узнать цены за вчерашний день, стоит использовать метод `shift(1)` у `Series`.\n",
    ">- Отношение цен закрытия за сегодня и за вчера - это **multiplier** за сегодняшний день. При этом давайте строить графики накопления для multiplier-ов. Т.е. если мы смотрим на 3 дня и в первый день multiplier = 1.5, во второй - 0.5 и в третий - 2, то график будет выглядеть так: (1.5, 1.5 * 0.5, 1.5 * 0.5 * 2).\n",
    ">- При использовании нашей новой стратегии мы будем либо покупать, если ведущее среднее становится больше запаздующего на некоторый `threshold` (при этом лучше разницу сперва поделить на цену), либо оставлять всё как есть. При этом, конечно, нужно, принимая решения за сегодняшний день, смотреть только на статистику из прошлого."
   ]
  },
  {
   "cell_type": "code",
   "execution_count": null,
   "metadata": {
    "id": "gp86AGWyL08I",
    "scrolled": false
   },
   "outputs": [],
   "source": [
    "def plot_moving_averages_strategy(\n",
    "    coins, symbol, lead_window, lag_window, threshold, start_date, end_date\n",
    "):\n",
    "    # Paste your code here"
   ]
  },
  {
   "cell_type": "code",
   "execution_count": null,
   "metadata": {
    "id": "m2CDc_kkL08J"
   },
   "outputs": [],
   "source": [
    "# Теперь на основе реализованной функции сделаем интерактивные графики и поизучаем, что получилось:\n",
    "symbol_selector = ipywidgets.Dropdown(\n",
    "    options=('BTC', 'ETH', 'EOS', 'BCH', 'XLM', 'LTC', 'ADA'),\n",
    "    index=0,\n",
    "    value='BTC',\n",
    "    layout={'width': '700px'},\n",
    "    continuous_update=False\n",
    ")\n",
    "\n",
    "lead_window_slider = ipywidgets.IntSlider(\n",
    "    value=21, \n",
    "    min=1, \n",
    "    max=200, \n",
    "    step=1,\n",
    "    layout={'width': '700px'},\n",
    "    continuous_update=False)\n",
    "\n",
    "lag_window_slider = ipywidgets.IntSlider(\n",
    "    value=50,\n",
    "    min=1, \n",
    "    max=200, \n",
    "    layout={'width': '700px'},\n",
    "    step=1, continuous_update=False)\n",
    "\n",
    "threshold_slider = ipywidgets.FloatSlider(\n",
    "    min=0, \n",
    "    max=0.20, \n",
    "    step=0.001, \n",
    "    value=0.025,\n",
    "    layout={'width': '700px'},\n",
    "    continuous_update=False)\n",
    "\n",
    "start_date_slider = ipywidgets.SelectionSlider(\n",
    "    options=pd.date_range('2013-04-28', '2018-06-06', freq='D'),\n",
    "    index=0,\n",
    "    value=pd.Timestamp('2017-05-01'),\n",
    "    layout={'width': '700px'},\n",
    "    continuous_update=False\n",
    ")\n",
    "\n",
    "end_date_slider = ipywidgets.SelectionSlider(\n",
    "    options=pd.date_range('2013-04-28', '2018-06-06', freq='D'),\n",
    "    index=0,\n",
    "    value=pd.Timestamp('2018-01-01'),\n",
    "    layout={'width': '700px'},\n",
    "    continuous_update=False\n",
    ")\n",
    "\n",
    "ipywidgets.interact(\n",
    "    plot_moving_averages_strategy,\n",
    "    coins=ipywidgets.fixed(coins),\n",
    "    symbol=symbol_selector,\n",
    "    lead_window=lead_window_slider,\n",
    "    lag_window=lag_window_slider,\n",
    "    threshold=threshold_slider,\n",
    "    start_date=start_date_slider,\n",
    "    end_date=end_date_slider\n",
    ")"
   ]
  },
  {
   "cell_type": "markdown",
   "metadata": {
    "id": "M0nDeThDL08K"
   },
   "source": [
    "Попробуйте разные значения параметров для разных монет и сделайте выводы о применимости такой модели:"
   ]
  },
  {
   "cell_type": "markdown",
   "metadata": {
    "id": "48-ixm47L08K"
   },
   "source": [
    "**Ваш ответ тут**"
   ]
  },
  {
   "cell_type": "markdown",
   "metadata": {
    "id": "ln30vuzhL08L"
   },
   "source": [
    "## 9. Отказ от ответственности "
   ]
  },
  {
   "cell_type": "markdown",
   "metadata": {
    "id": "TJsrHxbTT7ZH"
   },
   "source": [
    "Все примеры разобранных здесь стратегий являются игрушечными и не подходят для реальной торговли на бирже. Без серьезной подготовки вас там съедят с потрохами."
   ]
  }
 ],
 "metadata": {
  "colab": {
   "provenance": []
  },
  "kernelspec": {
   "display_name": "Python 3 (ipykernel)",
   "language": "python",
   "name": "python3"
  },
  "language_info": {
   "codemirror_mode": {
    "name": "ipython",
    "version": 3
   },
   "file_extension": ".py",
   "mimetype": "text/x-python",
   "name": "python",
   "nbconvert_exporter": "python",
   "pygments_lexer": "ipython3",
   "version": "3.9.13"
  }
 },
 "nbformat": 4,
 "nbformat_minor": 1
}
